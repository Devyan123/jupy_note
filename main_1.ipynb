{
 "cells": [
  {
   "cell_type": "code",
   "execution_count": null,
   "id": "d5d37ed4",
   "metadata": {},
   "outputs": [],
   "source": []
  },
  {
   "cell_type": "code",
   "execution_count": 6,
   "id": "30eaadf8",
   "metadata": {},
   "outputs": [],
   "source": [
    "import tensorflow as tf\n",
    "from tensorflow import keras\n",
    "from tensorflow.keras import layers\n",
    "from tensorflow.keras.preprocessing.image import ImageDataGenerator\n",
    "import matplotlib.pyplot as plt"
   ]
  },
  {
   "cell_type": "code",
   "execution_count": 7,
   "id": "dba1ce6a",
   "metadata": {},
   "outputs": [],
   "source": [
    "data_dir = \"dataset\"  # Folder containing 'clean' and 'dirty' subfolders"
   ]
  },
  {
   "cell_type": "code",
   "execution_count": 8,
   "id": "771af25a",
   "metadata": {},
   "outputs": [],
   "source": [
    "img_size = (150, 150)  # Resize images to 150x150\n",
    "batch_size = 32  # Process 32 images at a time"
   ]
  },
  {
   "cell_type": "code",
   "execution_count": 10,
   "id": "256850b1",
   "metadata": {},
   "outputs": [],
   "source": [
    "train_datagen = ImageDataGenerator(rescale=1./255, validation_split=0.2)"
   ]
  },
  {
   "cell_type": "code",
   "execution_count": 11,
   "id": "9e57d575",
   "metadata": {},
   "outputs": [
    {
     "name": "stdout",
     "output_type": "stream",
     "text": [
      "Found 492 images belonging to 2 classes.\n"
     ]
    }
   ],
   "source": [
    "train_generator = train_datagen.flow_from_directory(\n",
    "    data_dir,\n",
    "    target_size=img_size,\n",
    "    batch_size=batch_size,\n",
    "    class_mode='binary',  # Binary classification: clean (0) or dirty (1)\n",
    "    subset='training'\n",
    ")\n"
   ]
  },
  {
   "cell_type": "code",
   "execution_count": 12,
   "id": "be8ba14d",
   "metadata": {},
   "outputs": [
    {
     "name": "stdout",
     "output_type": "stream",
     "text": [
      "Found 122 images belonging to 2 classes.\n"
     ]
    }
   ],
   "source": [
    "Val_generator = train_datagen.flow_from_directory(\n",
    "    data_dir,\n",
    "    target_size=img_size,\n",
    "    batch_size=batch_size,\n",
    "    class_mode='binary',\n",
    "    subset='validation'\n",
    ")\n"
   ]
  },
  {
   "cell_type": "code",
   "execution_count": 13,
   "id": "f418d018",
   "metadata": {},
   "outputs": [
    {
     "name": "stdout",
     "output_type": "stream",
     "text": [
      "WARNING:tensorflow:From C:\\Users\\91818\\anaconda3\\lib\\site-packages\\keras\\src\\backend.py:873: The name tf.get_default_graph is deprecated. Please use tf.compat.v1.get_default_graph instead.\n",
      "\n",
      "WARNING:tensorflow:From C:\\Users\\91818\\anaconda3\\lib\\site-packages\\keras\\src\\layers\\pooling\\max_pooling2d.py:161: The name tf.nn.max_pool is deprecated. Please use tf.nn.max_pool2d instead.\n",
      "\n"
     ]
    }
   ],
   "source": [
    "model = keras.Sequential([\n",
    "    layers.Conv2D(32, (3,3), activation='relu', input_shape=(150,150,3)),\n",
    "    layers.MaxPooling2D(2,2),\n",
    "    layers.Conv2D(64, (3,3), activation='relu'),\n",
    "    layers.MaxPooling2D(2,2),\n",
    "    layers.Conv2D(128, (3,3), activation='relu'),\n",
    "    layers.MaxPooling2D(2,2),\n",
    "    layers.Flatten(),\n",
    "    layers.Dense(512, activation='relu'),\n",
    "    layers.Dense(1, activation='sigmoid')  # Sigmoid for binary classification\n",
    "])"
   ]
  },
  {
   "cell_type": "code",
   "execution_count": 14,
   "id": "d532ef2c",
   "metadata": {},
   "outputs": [
    {
     "name": "stdout",
     "output_type": "stream",
     "text": [
      "WARNING:tensorflow:From C:\\Users\\91818\\anaconda3\\lib\\site-packages\\keras\\src\\optimizers\\__init__.py:309: The name tf.train.Optimizer is deprecated. Please use tf.compat.v1.train.Optimizer instead.\n",
      "\n"
     ]
    }
   ],
   "source": [
    "model.compile(loss='binary_crossentropy', optimizer='adam', metrics=['accuracy'])"
   ]
  },
  {
   "cell_type": "code",
   "execution_count": 17,
   "id": "70c0e0cf",
   "metadata": {},
   "outputs": [
    {
     "name": "stdout",
     "output_type": "stream",
     "text": [
      "Epoch 1/10\n",
      "WARNING:tensorflow:From C:\\Users\\91818\\anaconda3\\lib\\site-packages\\keras\\src\\utils\\tf_utils.py:492: The name tf.ragged.RaggedTensorValue is deprecated. Please use tf.compat.v1.ragged.RaggedTensorValue instead.\n",
      "\n",
      "WARNING:tensorflow:From C:\\Users\\91818\\anaconda3\\lib\\site-packages\\keras\\src\\engine\\base_layer_utils.py:384: The name tf.executing_eagerly_outside_functions is deprecated. Please use tf.compat.v1.executing_eagerly_outside_functions instead.\n",
      "\n",
      "16/16 [==============================] - 22s 1s/step - loss: 1.3553 - accuracy: 0.5183 - val_loss: 0.6995 - val_accuracy: 0.5000\n",
      "Epoch 2/10\n",
      "16/16 [==============================] - 9s 574ms/step - loss: 0.6752 - accuracy: 0.5650 - val_loss: 0.6193 - val_accuracy: 0.7295\n",
      "Epoch 3/10\n",
      "16/16 [==============================] - 9s 561ms/step - loss: 0.5726 - accuracy: 0.6911 - val_loss: 0.5565 - val_accuracy: 0.6557\n",
      "Epoch 4/10\n",
      "16/16 [==============================] - 9s 569ms/step - loss: 0.5412 - accuracy: 0.7480 - val_loss: 0.4515 - val_accuracy: 0.8197\n",
      "Epoch 5/10\n",
      "16/16 [==============================] - 9s 570ms/step - loss: 0.5021 - accuracy: 0.7480 - val_loss: 0.4677 - val_accuracy: 0.7951\n",
      "Epoch 6/10\n",
      "16/16 [==============================] - 9s 569ms/step - loss: 0.4910 - accuracy: 0.7337 - val_loss: 0.5479 - val_accuracy: 0.6885\n",
      "Epoch 7/10\n",
      "16/16 [==============================] - 9s 563ms/step - loss: 0.3951 - accuracy: 0.8415 - val_loss: 0.4325 - val_accuracy: 0.7623\n",
      "Epoch 8/10\n",
      "16/16 [==============================] - 9s 563ms/step - loss: 0.3507 - accuracy: 0.8476 - val_loss: 0.3587 - val_accuracy: 0.8115\n",
      "Epoch 9/10\n",
      "16/16 [==============================] - 9s 563ms/step - loss: 0.2612 - accuracy: 0.8984 - val_loss: 0.3640 - val_accuracy: 0.8361\n",
      "Epoch 10/10\n",
      "16/16 [==============================] - 9s 562ms/step - loss: 0.1862 - accuracy: 0.9451 - val_loss: 0.3839 - val_accuracy: 0.8525\n"
     ]
    }
   ],
   "source": [
    "epochs = 10\n",
    "history = model.fit(train_generator, validation_data=Val_generator, epochs=epochs)"
   ]
  },
  {
   "cell_type": "code",
   "execution_count": 18,
   "id": "5369fbd2",
   "metadata": {},
   "outputs": [
    {
     "data": {
      "image/png": "[encoded data removed]",
      "text/plain": [
       "<Figure size 640x480 with 1 Axes>"
      ]
     },
     "metadata": {},
     "output_type": "display_data"
    }
   ],
   "source": [
    "plt.plot(history.history['accuracy'], label='train accuracy')\n",
    "plt.plot(history.history['val_accuracy'], label='validation accuracy')\n",
    "plt.xlabel('Epochs')\n",
    "plt.ylabel('Accuracy')\n",
    "plt.legend()\n",
    "plt.show()"
   ]
  },
  {
   "cell_type": "code",
   "execution_count": 19,
   "id": "db6b9721",
   "metadata": {},
   "outputs": [
    {
     "name": "stderr",
     "output_type": "stream",
     "text": [
      "C:\\Users\\91818\\anaconda3\\lib\\site-packages\\keras\\src\\engine\\training.py:3103: UserWarning: You are saving your model as an HDF5 file via `model.save()`. This file format is considered legacy. We recommend using instead the native Keras format, e.g. `model.save('my_model.keras')`.\n",
      "  saving_api.save_model(\n"
     ]
    }
   ],
   "source": [
    "model.save(\"floor_classifier.h5\")"
   ]
  },
  {
   "cell_type": "code",
   "execution_count": 36,
   "id": "8b3df546",
   "metadata": {},
   "outputs": [
    {
     "name": "stdout",
     "output_type": "stream",
     "text": [
      "1/1 [==============================] - 0s 190ms/step\n",
      "Prediction: Dirty Floor\n"
     ]
    }
   ],
   "source": [
    "import numpy as np\n",
    "from tensorflow.keras.preprocessing import image\n",
    "\n",
    "# Load the trained model\n",
    "model = keras.models.load_model(\"floor_classifier.h5\")\n",
    "\n",
    "# Load an image to test\n",
    "img_path = \"C:/Users/91818/Desktop/march_25/dirty_2.jpg\"  # Replace with the path to your test image\n",
    "img = image.load_img(img_path, target_size=(150, 150))  # Resize to match model input\n",
    "img_array = image.img_to_array(img)  # Convert to array\n",
    "img_array = np.expand_dims(img_array, axis=0)  # Add batch dimension\n",
    "img_array /= 255.0  # Normalize pixel values\n",
    "\n",
    "# Make prediction\n",
    "prediction = model.predict(img_array)\n",
    "\n",
    "# Interpret the result\n",
    "if prediction[0][0] > 0.5:\n",
    "    print(\"Prediction: Dirty Floor\")\n",
    "else:\n",
    "    print(\"Prediction: Clean Floor\")"
   ]
  },
  {
   "cell_type": "code",
   "execution_count": null,
   "id": "0f5402d8",
   "metadata": {},
   "outputs": [],
   "source": []
  }
 ],
 "metadata": {
  "kernelspec": {
   "display_name": "Python 3 (ipykernel)",
   "language": "python",
   "name": "python3"
  },
  "language_info": {
   "codemirror_mode": {
    "name": "ipython",
    "version": 3
   },
   "file_extension": ".py",
   "mimetype": "text/x-python",
   "name": "python",
   "nbconvert_exporter": "python",
   "pygments_lexer": "ipython3",
   "version": "3.10.9"
  }
 },
 "nbformat": 4,
 "nbformat_minor": 5
}
